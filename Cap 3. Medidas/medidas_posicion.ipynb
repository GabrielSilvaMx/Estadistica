{
 "cells": [
  {
   "cell_type": "markdown",
   "metadata": {},
   "source": [
    "*Media aritmética o promedio.*"
   ]
  },
  {
   "cell_type": "markdown",
   "metadata": {},
   "source": [
    "******\n",
    "**Media**: Medida que se calcula sumando el total de los datos o valores de la variable para luego dividir esa suma entre el número de datos sumados.\n",
    "******"
   ]
  },
  {
   "attachments": {
    "image.png": {
     "image/png": "[encoded data removed]"
    }
   },
   "cell_type": "markdown",
   "metadata": {},
   "source": [
    "![image.png](attachment:image.png)"
   ]
  },
  {
   "cell_type": "markdown",
   "metadata": {},
   "source": [
    "la media es igual a la sumatoria desde i igual a 1 hasta n, de las observaciones X"
   ]
  },
  {
   "cell_type": "code",
   "execution_count": 3,
   "metadata": {},
   "outputs": [],
   "source": [
    "from prettytable import PrettyTable\n",
    "\n",
    "def pretty_table(data, varX=\"x\", frecuencia=\"f\"):\n",
    "    table = PrettyTable()\n",
    "    table.field_names = [varX, frecuencia]\n",
    "    for key, value in data.items():\n",
    "        table.add_row([key, value])\n",
    "    return table"
   ]
  },
  {
   "cell_type": "markdown",
   "metadata": {},
   "source": [
    "3.1 La media en una serie simple"
   ]
  },
  {
   "cell_type": "code",
   "execution_count": 11,
   "metadata": {},
   "outputs": [],
   "source": [
    "# ejemplo 3.1\n",
    "edad_padres_familia = [55 , 58 , 78 , 52 , 54 , 63 , 52 , 52 , 64 , 56 , 58 , 78 , 54 , 65 , 58 , 56 , 50 , 52 , 53 , 58 , 49 , 53 , 63 , 52 , 50 , 54 , 54 , 56 , 63 , 48 , 63 , 68 , 55 , 57 , 49 , 53 , 68 , 54 , 46 , 75 , 56 , 65 , 54 , 50 , 65 , 64 , 65 , 65 , 54 , 50 , 52 , 65 , 68 , 63 , 55 , 55 , 58 , 65 , 52 , 70]"
   ]
  },
  {
   "cell_type": "code",
   "execution_count": 4,
   "metadata": {},
   "outputs": [],
   "source": [
    "from typing import List\n",
    "\n",
    "def mean(xs: List[float]) -> float:\n",
    "    return sum(xs) / len(xs)"
   ]
  },
  {
   "cell_type": "code",
   "execution_count": null,
   "metadata": {},
   "outputs": [
    {
     "name": "stdout",
     "output_type": "stream",
     "text": [
      "Media (promedio): 58.11666666666667 Total: 3487\n"
     ]
    }
   ],
   "source": [
    "media = mean(edad_padres_familia)\n",
    "print(f'Media (promedio): {media} Total: {sum(edad_padres_familia)}')"
   ]
  },
  {
   "cell_type": "markdown",
   "metadata": {},
   "source": [
    "ejercicio 3.2 La media en una serie de datos y frecuencias"
   ]
  },
  {
   "cell_type": "markdown",
   "metadata": {},
   "source": [
    "Agrupar los datos de edades en una tabla de datos y frecuencias\n",
    "y calcular la media aritmética"
   ]
  },
  {
   "cell_type": "markdown",
   "metadata": {},
   "source": [
    "Los datos se agrupan en las 2 primeras columna:"
   ]
  },
  {
   "cell_type": "code",
   "execution_count": 14,
   "metadata": {},
   "outputs": [
    {
     "name": "stdout",
     "output_type": "stream",
     "text": [
      "+--------------------------+----------------+\n",
      "| Salario de la Zona A (x) | Frecuencia (f) |\n",
      "+--------------------------+----------------+\n",
      "|            46            |       1        |\n",
      "|            48            |       1        |\n",
      "|            49            |       2        |\n",
      "|            50            |       4        |\n",
      "|            52            |       7        |\n",
      "|            53            |       3        |\n",
      "|            54            |       7        |\n",
      "|            55            |       4        |\n",
      "|            56            |       4        |\n",
      "|            57            |       1        |\n",
      "|            58            |       5        |\n",
      "|            63            |       5        |\n",
      "|            64            |       2        |\n",
      "|            65            |       7        |\n",
      "|            68            |       3        |\n",
      "|            70            |       1        |\n",
      "|            75            |       1        |\n",
      "|            78            |       2        |\n",
      "+--------------------------+----------------+\n"
     ]
    }
   ],
   "source": [
    "from collections import defaultdict\n",
    "frecuencia_edades_padres = defaultdict(int)\n",
    "\n",
    "# x(edad) \n",
    "for x in sorted(edad_padres_familia):\n",
    "    frecuencia_edades_padres[x] += 1\n",
    "#serie de datos con frecuencia \n",
    "tabla = pretty_table (frecuencia_edades_padres, \"Salario de la Zona A (x)\", \"Frecuencia (f)\")\n",
    "print(tabla)"
   ]
  },
  {
   "cell_type": "markdown",
   "metadata": {},
   "source": [
    "como el cálculo de la media aritmética requiere que se sumen todos los datos, si éstos se agrupan de acuerdo con su frecuencia, sumarlos equivale a sumar los productos de cada dato (*x*) por la frecuencia correspondiente (*f*), ya que, por ejemplo,\n",
    "como el valor 50 aparece 4 veces, es lo mismo sumar 4 veces 50 que multiplicar 50 por 4. Se resumen estas operaciones en la columna con encabezado “*f (x)*”."
   ]
  },
  {
   "cell_type": "code",
   "execution_count": null,
   "metadata": {},
   "outputs": [],
   "source": [
    "\n",
    "distribucion = defaultdict(dict)\n",
    "\n",
    "for variable_x, frecuencia in frecuencia_edades_padres.items():\n",
    "    tabla_frec = defaultdict(lambda: [0, 0])\n",
    "    tabla_frec[variable_x][0] = frecuencia\n",
    "    # PASO 1: Multiplicar cada dato por la frecuencia correspondiente: f (x )\n",
    "    tabla_frec[variable_x][1] = variable_x * frecuencia    \n",
    "    distribucion[variable_x] = tabla_frec[variable_x]\n"
   ]
  },
  {
   "cell_type": "code",
   "execution_count": 24,
   "metadata": {},
   "outputs": [
    {
     "name": "stdout",
     "output_type": "stream",
     "text": [
      "+---------+----+------+\n",
      "| x(edad) | f  | f(x) |\n",
      "+---------+----+------+\n",
      "|    46   | 1  |  46  |\n",
      "|    48   | 1  |  48  |\n",
      "|    49   | 2  |  98  |\n",
      "|    50   | 4  | 200  |\n",
      "|    52   | 7  | 364  |\n",
      "|    53   | 3  | 159  |\n",
      "|    54   | 7  | 378  |\n",
      "|    55   | 4  | 220  |\n",
      "|    56   | 4  | 224  |\n",
      "|    57   | 1  |  57  |\n",
      "|    58   | 5  | 290  |\n",
      "|    63   | 5  | 315  |\n",
      "|    64   | 2  | 128  |\n",
      "|    65   | 7  | 455  |\n",
      "|    68   | 3  | 204  |\n",
      "|    70   | 1  |  70  |\n",
      "|    75   | 1  |  75  |\n",
      "|    78   | 2  | 156  |\n",
      "+---------+----+------+\n",
      "|  Total  | 60 | 3487 |\n",
      "+---------+----+------+\n"
     ]
    }
   ],
   "source": [
    "table = PrettyTable()\n",
    "table.field_names = [\"x(edad)\", \"f\", \"f(x)\"]\n",
    "for key, value in distribucion.items():\n",
    "    table.add_row([key, value[0], value[1]])\n",
    "table.add_divider()\n",
    "table.add_row([\"Total\", sum([value[0] for value in distribucion.values()]), sum([value[1] for value in distribucion.values()])])\n",
    "print(table)"
   ]
  },
  {
   "cell_type": "code",
   "execution_count": 29,
   "metadata": {},
   "outputs": [],
   "source": [
    "#PASO 2: Sumar estos productos: Σf(x)\n",
    "suma_fx = sum([value[1] for value in distribucion.values()])\n",
    "assert suma_fx == sum(edad_padres_familia)"
   ]
  },
  {
   "attachments": {
    "image.png": {
     "image/png": "[encoded data removed]"
    }
   },
   "cell_type": "markdown",
   "metadata": {},
   "source": [
    "![image.png](attachment:image.png)"
   ]
  },
  {
   "cell_type": "markdown",
   "metadata": {},
   "source": [
    "En donde,\n",
    "*ΣfiXi* es la suma de los productos de cada valor por su frecuencia, y\n",
    "\n",
    "*Σfi* es la suma de las frecuencias que es, a la vez, el número de\n",
    "elementos de la serie, el número de padres de familia. Esto último en símbolos: *Σfi = n*."
   ]
  },
  {
   "cell_type": "code",
   "execution_count": null,
   "metadata": {},
   "outputs": [
    {
     "name": "stdout",
     "output_type": "stream",
     "text": [
      "3487 / 60 -> Media (promedio): 58.11666666666667\n"
     ]
    }
   ],
   "source": [
    "#PASO 3: Dividir esta suma entre el número de elementos, o sea la suma de las frecuencias:\n",
    "#Σf. Nótese, además, que la suma de las frecuencias es igual al número de elementos o,\n",
    "#en símbolos: Σfi = n\n",
    "n = sum([value[0] for value in distribucion.values()])\n",
    "assert n == len(edad_padres_familia)\n",
    "\n",
    "media_fx = suma_fx / n\n",
    "print(f'{suma_fx} / {n} -> Media (promedio): {media_fx}')\n",
    "assert media == media_fx"
   ]
  },
  {
   "cell_type": "markdown",
   "metadata": {},
   "source": [
    "la cual es el mismo resultado que se obtuvo antes"
   ]
  },
  {
   "cell_type": "markdown",
   "metadata": {},
   "source": [
    "*ejemplo 3.3 La media en una serie de clases y frecuencias*"
   ]
  },
  {
   "cell_type": "markdown",
   "metadata": {},
   "source": [
    "Convertir los datos de las edades de los 60 padres de familia en\n",
    "una serie de clases y frecuencias y calcular la media aritmética a\n",
    "partir de esta serie."
   ]
  },
  {
   "cell_type": "code",
   "execution_count": null,
   "metadata": {},
   "outputs": [],
   "source": [
    "# Agrupamiento de las edades de 60 padres de familia en una serie de clases y \n",
    "# frecuencias (columnas “x” y “f ”) y cálculos para determinar la media\n"
   ]
  },
  {
   "cell_type": "code",
   "execution_count": 35,
   "metadata": {},
   "outputs": [],
   "source": [
    "def distribucion_frecuencia(serie:list, min=0, max=10, incr=10) -> dict:\n",
    "    # crear un diccionario con indice de min a max con incrementos de incr\n",
    "    distribucion = defaultdict(int)\n",
    "    for i in range(min, max, incr):\n",
    "        distribucion[f'{i} a menos de {( i + incr )}'] = 0\n",
    "        # sumar los valores de la serie que cumplan con la condición\n",
    "        distribucion[f'{i} a menos de {( i + incr )}'] = sum(map(lambda x: i <= x < i + incr, serie))\n",
    "    return distribucion  "
   ]
  },
  {
   "cell_type": "code",
   "execution_count": 36,
   "metadata": {},
   "outputs": [],
   "source": [
    "import math\n",
    "def reglaSturges(datos):\n",
    "     # Determinar el número de clases o intervalos utilizando la raíz cuadrada del número de elementos de la serie.\n",
    "     intervalos = math.ceil(math.sqrt(len(datos)))\n",
    "     # Establecer el rango de los datos: máximo – mínimo\n",
    "     rango = max(datos) - min(datos)\n",
    "     # Dividir el rango entre el número de clases para determinar los intervalos de clase \n",
    "     # (este paso normalmente requiere de redondeos y ajustes para llegar, de preferencia, \n",
    "     # a valores enteros y gruesos, como decenas, por ejemplo)\n",
    "     amplitud_clase = rango / intervalos\n",
    "     # Determinar cuántos de los datos caen dentro de cada clase     \n",
    "     return amplitud_clase"
   ]
  },
  {
   "cell_type": "code",
   "execution_count": 43,
   "metadata": {},
   "outputs": [
    {
     "name": "stdout",
     "output_type": "stream",
     "text": [
      "4.0\n"
     ]
    }
   ],
   "source": [
    "amplitud_clase = reglaSturges(sorted(edad_padres_familia))\n",
    "print(amplitud_clase)\n"
   ]
  },
  {
   "cell_type": "code",
   "execution_count": 44,
   "metadata": {},
   "outputs": [
    {
     "name": "stdout",
     "output_type": "stream",
     "text": [
      "+------------------+----------------+\n",
      "|    Edades (x)    | Frecuencia (f) |\n",
      "+------------------+----------------+\n",
      "| 45 a menos de 50 |       4        |\n",
      "| 50 a menos de 55 |       21       |\n",
      "| 55 a menos de 60 |       14       |\n",
      "| 60 a menos de 65 |       7        |\n",
      "| 65 a menos de 70 |       10       |\n",
      "| 70 a menos de 75 |       1        |\n",
      "| 75 a menos de 80 |       3        |\n",
      "+------------------+----------------+\n"
     ]
    }
   ],
   "source": [
    "\n",
    "# construir 7 clases de amplitud 8,  para obtener el siguiente conjunto de clases\n",
    "clase_padres_familia= distribucion_frecuencia(\n",
    "    sorted(edad_padres_familia), \n",
    "    min=int(min(edad_padres_familia)-1),\n",
    "    max=int(max(edad_padres_familia)), \n",
    "    incr = int(amplitud_clase+1)\n",
    ")\n",
    "serie_padres_familia = sum(map(lambda x: x[1], clase_padres_familia.items()))\n",
    "assert serie_padres_familia == len(edad_padres_familia)\n",
    "\n",
    "tabla = pretty_table (clase_padres_familia, \"Edades (x)\", \"Frecuencia (f)\")\n",
    "print(tabla)"
   ]
  },
  {
   "cell_type": "markdown",
   "metadata": {},
   "source": [
    "En el caso de una serie de clases y frecuencias, se pierde cierta\n",
    "información al ubicar los valores dentro de rangos (las clases),\n",
    "por lo que ya no se tienen los valores exactos, como se mencionó en el capítulo anterior. \n",
    "\n",
    "Para utilizar estos datos se emplea un valor para representar a todos los que se encuentran en cada clase. Este valor que representa a todos los de su clase es el **punto medio de clase o el valor central de cada clase** el cual es, precisamente, el promedio entre los 2 límites de cada clase"
   ]
  },
  {
   "cell_type": "markdown",
   "metadata": {},
   "source": [
    "el procedimiento para el cálculo para una serie de clases\n",
    "y frecuencias consiste en:\n",
    "\n",
    "-  Determinar el punto medio de cada clase, Pm;\n",
    "-  Multiplicar cada punto medio de clase por la frecuencia correspondiente, f (Pm);\n",
    "-  Sumar estos productos, Σf (Pm);\n",
    "-  Dividir esta suma entre el número de elementos, o sea la suma de las frecuencias Σf."
   ]
  },
  {
   "attachments": {
    "image.png": {
     "image/png": "[encoded data removed]"
    }
   },
   "cell_type": "markdown",
   "metadata": {},
   "source": [
    "![image.png](attachment:image.png)"
   ]
  },
  {
   "cell_type": "markdown",
   "metadata": {},
   "source": [
    "*******\n",
    "**Punto medio de clase o valor central de cada clase**: Valor que representa a todos los de su clase\n",
    "*******"
   ]
  },
  {
   "cell_type": "code",
   "execution_count": null,
   "metadata": {},
   "outputs": [],
   "source": [
    "distribucion = defaultdict(dict)\n",
    "for variable_x, frecuencia in clase_padres_familia.items():\n",
    "    tabla_frec = defaultdict(lambda: [0, 0, 0])\n",
    "    tabla_frec[variable_x][0] = frecuencia\n",
    "    # Determinar el punto medio de cada clase, Pm;\n",
    "    limite_inferior, limite_superior = map(int, variable_x.split(\" \")[0:5:4])    \n",
    "    # La primera clase va de 45 a menos de 50, por lo que su punto medio es (45+50)/2 = 47.5\n",
    "    tabla_frec[variable_x][1] = (limite_inferior + limite_superior) / 2\n",
    "    # Multiplicar cada punto medio por la frecuencia correspondiente: f (Pm)\n",
    "    tabla_frec[variable_x][2] = tabla_frec[variable_x][1] * frecuencia\n",
    "\n",
    "    distribucion[variable_x] = tabla_frec[variable_x]\n"
   ]
  },
  {
   "cell_type": "code",
   "execution_count": null,
   "metadata": {},
   "outputs": [
    {
     "name": "stdout",
     "output_type": "stream",
     "text": [
      "+------------------+----+------+--------+\n",
      "|     x(edad)      | f  | Pmx  | f(Pm)  |\n",
      "+------------------+----+------+--------+\n",
      "| 45 a menos de 50 | 4  | 47.5 | 190.0  |\n",
      "| 50 a menos de 55 | 21 | 52.5 | 1102.5 |\n",
      "| 55 a menos de 60 | 14 | 57.5 | 805.0  |\n",
      "| 60 a menos de 65 | 7  | 62.5 | 437.5  |\n",
      "| 65 a menos de 70 | 10 | 67.5 | 675.0  |\n",
      "| 70 a menos de 75 | 1  | 72.5 |  72.5  |\n",
      "| 75 a menos de 80 | 3  | 77.5 | 232.5  |\n",
      "+------------------+----+------+--------+\n",
      "|      Total       | 60 |      | 3515.0 |\n",
      "+------------------+----+------+--------+\n"
     ]
    }
   ],
   "source": [
    "table = PrettyTable()\n",
    "table.field_names = [\"x(edad)\", \"f\", \"Pm\",\"f(Pm)\"]\n",
    "\n",
    "for key, value in distribucion.items():\n",
    "    table.add_row([key, value[0], value[1], value[2]])\n",
    "table.add_divider()\n",
    "table.add_row([\"Total\", sum([value[0] for value in distribucion.values()]),\"\", sum([value[2] for value in distribucion.values()])])\n",
    "print(table)"
   ]
  },
  {
   "cell_type": "code",
   "execution_count": 72,
   "metadata": {},
   "outputs": [
    {
     "name": "stdout",
     "output_type": "stream",
     "text": [
      "3515.0 / 60 -> Media (promedio): 58.583333333333336\n"
     ]
    }
   ],
   "source": [
    "# Sumar estos productos, Σf (Pm);\n",
    "suma_fx = sum([value[2] for value in distribucion.values()])\n",
    "\n",
    "# Dividir esta suma entre el número de elementos, o sea la suma de las frecuencias: Σf. Nótese, además, que la suma de las frecuencias es igual al número de elementos o, en símbolos: Σfi = n\n",
    "n = sum([value[0] for value in distribucion.values()])\n",
    "assert n == len(edad_padres_familia)\n",
    "\n",
    "# Determinar la media aritmética de la serie agrupada, x̄\n",
    "media_fx = suma_fx / n\n",
    "print(f'{suma_fx} / {n} -> Media (promedio): {media_fx}')\n"
   ]
  },
  {
   "cell_type": "markdown",
   "metadata": {},
   "source": [
    "Un detalle que es importante observar aquí es que este resultado\n",
    "de la media, 58.58, no es igual al que se encontró para las tablas\n",
    "simple y de datos y frecuencias, 58.12, y la razón es que, como\n",
    "se comentó, el agrupamiento de los datos en clases hace que se\n",
    "pierda información. Esto último se refleja en el uso del punto\n",
    "medio de clase para representar a todos los elementos de cada\n",
    "clase.\n",
    "\n",
    "Sin embargo, por otro lado, esta pérdida de precisión en el cálculo de medidas a\n",
    "partir de series de clases y frecuencias comúnmente se compensa por la sencillez en\n",
    "el manejo de datos agrupados de esta manera. \n",
    "\n",
    "Cuando se tienen grandes cantidades de datos, una serie de clases y frecuencias es\n",
    "la mejor manera de agruparlo"
   ]
  },
  {
   "cell_type": "markdown",
   "metadata": {},
   "source": [
    "**Media ponderada**"
   ]
  },
  {
   "cell_type": "markdown",
   "metadata": {},
   "source": [
    "*****\n",
    "La media ponderada se utiliza principalmente para darle un peso relativo diferente\n",
    "a cada uno de los valores de la variable.\n",
    "*****"
   ]
  },
  {
   "cell_type": "markdown",
   "metadata": {},
   "source": [
    "En la tabla  se presentan datos de precios de 10 acciones que\n",
    "cotizan en una bolsa de valores, junto con el volumen negociado\n",
    "(número de acciones negociadas) a determinada fecha y se incluye una columna final con el producto del precio por el volumen"
   ]
  },
  {
   "cell_type": "code",
   "execution_count": null,
   "metadata": {},
   "outputs": [],
   "source": [
    "acciones_bursatiles = { \n",
    "    \"CEL\": [28.44, 1500, 42660],\n",
    "    \"CEMEXCPO\" : [53.51, 4946300, 264676513], \n",
    "    \"CIEB\" : [22.99, 65500, 1505845], \n",
    "    \"COMERCIUBC\" : [15.16, 513600, 7786176], \n",
    "    \"CONTAL\" : [17.99, 866200 , 15582938], \n",
    "    \"DESCB\" : [2.8, 116100, 325080], \n",
    "    \"ELEKTRACPO\" : [75.95, 102000, 7746900], \n",
    "    \"FEMSAUBD\" : [74.76, 561900, 42007644], \n",
    "    \"GCARSOA1\" : [22.16, 576800, 12781888], \n",
    "    \"GEOB\" : [30.2, 1064800, 32156960]\n",
    "}\n"
   ]
  },
  {
   "cell_type": "code",
   "execution_count": 13,
   "metadata": {},
   "outputs": [
    {
     "name": "stdout",
     "output_type": "stream",
     "text": [
      "+--------------------+----------------------+-----------------------+----------------+\n",
      "| Clave de la acción | Precio de Cierre (C) | Volumen Negociado (V) |     C x V      |\n",
      "+--------------------+----------------------+-----------------------+----------------+\n",
      "|        CEL         |        28.44         |          1500         |     42660      |\n",
      "|      CEMEXCPO      |        53.51         |        4946300        |   264676513    |\n",
      "|        CIEB        |        22.99         |         65500         |    1505845     |\n",
      "|     COMERCIUBC     |        15.16         |         513600        |    7786176     |\n",
      "|       CONTAL       |        17.99         |         866200        |    15582938    |\n",
      "|       DESCB        |         2.8          |         116100        |     325080     |\n",
      "|     ELEKTRACPO     |        75.95         |         102000        |    7746900     |\n",
      "|      FEMSAUBD      |        74.76         |         561900        |    42007644    |\n",
      "|      GCARSOA1      |        22.16         |         576800        |    12781888    |\n",
      "|        GEOB        |         30.2         |        1064800        |    32156960    |\n",
      "+--------------------+----------------------+-----------------------+----------------+\n",
      "|       Total        |        343.96        |      8,814,700.00     | 384,612,604.00 |\n",
      "+--------------------+----------------------+-----------------------+----------------+\n"
     ]
    }
   ],
   "source": [
    "table = PrettyTable()\n",
    "table.field_names = [\"Clave de la acción\", \"Precio de Cierre (C)\", \"Volumen Negociado (V)\",\"C x V\"]\n",
    "\n",
    "for key, value in acciones_bursatiles.items():\n",
    "    table.add_row([key, value[0], value[1], value[2]])\n",
    "table.add_divider()\n",
    "table.add_row([\"Total\", \"{:,.2f}\".format(sum([value[0] for value in acciones_bursatiles.values()])), \"{:,.2f}\".format(sum([value[1] for value in acciones_bursatiles.values()])), \"{:,.2f}\".format(sum([value[2] for value in acciones_bursatiles.values()]))])\n",
    "print(table)"
   ]
  },
  {
   "cell_type": "markdown",
   "metadata": {},
   "source": [
    "Si se calcula la media aritmética de los precios se tiene:"
   ]
  },
  {
   "cell_type": "code",
   "execution_count": 12,
   "metadata": {},
   "outputs": [
    {
     "name": "stdout",
     "output_type": "stream",
     "text": [
      "Media (promedio) de precios:  34.40\n"
     ]
    }
   ],
   "source": [
    "media_precios = mean([value[0] for value in acciones_bursatiles.values()])\n",
    "print(f'Media (promedio) de precios: ',\"{:,.2f}\".format(media_precios))\n"
   ]
  },
  {
   "cell_type": "markdown",
   "metadata": {},
   "source": [
    "Sin embargo, este promedio no toma en cuenta las diferencias\n",
    "en el número de acciones de cada empresa que se negociaron ese día. Por ejemplo, se negociaron solamente 1 500 acciones de\n",
    "CEL, pero se negociaron 4 946 300 de CEMEXCPO y, por eso,\n",
    "es posible que se desee dar un mayor peso al precio de estas acciones al calcular el promedio. Esto es lo que hace *un promedio ponderado*."
   ]
  },
  {
   "cell_type": "code",
   "execution_count": 16,
   "metadata": {},
   "outputs": [
    {
     "name": "stdout",
     "output_type": "stream",
     "text": [
      "Min CxV: 1500\n",
      "Max CxV: 4946300\n",
      "Rango  CxV: 4946297.2\n"
     ]
    }
   ],
   "source": [
    "print(\"Min CxV:\", min([value[1] for value in acciones_bursatiles.values()]))\n",
    "print(\"Max CxV:\", max([value[1] for value in acciones_bursatiles.values()]))\n",
    "print(\"Rango  CxV:\", max([value[1] for value in acciones_bursatiles.values()]) - min([value[0] for value in acciones_bursatiles.values()]))\n"
   ]
  },
  {
   "cell_type": "code",
   "execution_count": 23,
   "metadata": {},
   "outputs": [
    {
     "data": {
      "image/png": "[encoded data removed]",
      "text/plain": [
       "<Figure size 640x480 with 1 Axes>"
      ]
     },
     "metadata": {},
     "output_type": "display_data"
    }
   ],
   "source": [
    "# generate a box plot \n",
    "import matplotlib.pyplot as plt\n",
    "plt.boxplot([value[1] for value in acciones_bursatiles.values()])\n",
    "# Display data of mean, range, and outlier on boxplot\n",
    "data = [value[1] for value in acciones_bursatiles.values()]\n",
    "mean_val = mean(data)\n",
    "range_val = max(data) - min(data)\n",
    "outliers = [x for x in data if x < (mean_val - 1.5 * range_val) or x > (mean_val + 1.5 * range_val)]\n",
    "\n",
    "plt.title('Boxplot of Volumen Negociado')\n",
    "plt.xlabel('Acciones')\n",
    "plt.ylabel('Volumen Negociado')\n",
    "\n",
    "# Display mean\n",
    "plt.axhline(mean_val, color='r', linestyle='--', label=f'Mean: {mean_val:.2f}')\n",
    "plt.legend()\n",
    "\n",
    "plt.show()"
   ]
  },
  {
   "cell_type": "markdown",
   "metadata": {},
   "source": [
    "Lo que se hace es multiplicar cada precio por el volumen\n",
    "de acciones negociadas, con lo cual este volumen es el que da el\n",
    "peso relativo a cada precio: a mayor volumen negociado, mayor\n",
    "peso (ponderación) del precio en el promedio. Después, se divide la suma de estos productos entre la suma de los volúmenes.\n",
    "Este procedimiento se puede resumir en la siguiente fórmula:"
   ]
  },
  {
   "attachments": {
    "image.png": {
     "image/png": "[encoded data removed]"
    }
   },
   "cell_type": "markdown",
   "metadata": {},
   "source": [
    "![image.png](attachment:image.png)"
   ]
  },
  {
   "cell_type": "markdown",
   "metadata": {},
   "source": [
    "En donde *Xi* es la variable de interés, en este caso, los precios, y\n",
    "*Pi* son los pesos o ponderaciones, en este caso, los volúmenes negociados"
   ]
  },
  {
   "cell_type": "code",
   "execution_count": 25,
   "metadata": {},
   "outputs": [],
   "source": [
    "from typing import List\n",
    "\n",
    "def mean_ponderado(xi: List[float], xp: List[float]) -> float:\n",
    "    return sum(xi) / sum(xp)"
   ]
  },
  {
   "cell_type": "code",
   "execution_count": 21,
   "metadata": {},
   "outputs": [
    {
     "name": "stdout",
     "output_type": "stream",
     "text": [
      "Media (promedio) de precios ponderado:  43.63309063269311\n"
     ]
    }
   ],
   "source": [
    "promedio_precios_ponderado = mean_ponderado([value[2] for value in acciones_bursatiles.values()], [value[1] for value in acciones_bursatiles.values()])\n",
    "print(f'Media (promedio) de precios ponderado: ',promedio_precios_ponderado)"
   ]
  },
  {
   "cell_type": "code",
   "execution_count": 26,
   "metadata": {},
   "outputs": [
    {
     "data": {
      "image/png": "[encoded data removed]",
      "text/plain": [
       "<Figure size 640x480 with 1 Axes>"
      ]
     },
     "metadata": {},
     "output_type": "display_data"
    }
   ],
   "source": [
    "# generate a box plot \n",
    "import matplotlib.pyplot as plt\n",
    "plt.boxplot([value[1] for value in acciones_bursatiles.values()])\n",
    "# Display data of mean, range, and outlier on boxplot\n",
    "data = [value[1] for value in acciones_bursatiles.values()]\n",
    "mean_val = promedio_precios_ponderado\n",
    "range_val = max(data) - min(data)\n",
    "outliers = [x for x in data if x < (mean_val - 1.5 * range_val) or x > (mean_val + 1.5 * range_val)]\n",
    "\n",
    "plt.title('Boxplot of Volumen Negociado')\n",
    "plt.xlabel('Acciones')\n",
    "plt.ylabel('Volumen Negociado')\n",
    "\n",
    "# Display mean\n",
    "plt.axhline(mean_val, color='r', linestyle='--', label=f'Mean: {mean_val:.2f}')\n",
    "plt.legend()\n",
    "\n",
    "plt.show()"
   ]
  },
  {
   "cell_type": "markdown",
   "metadata": {},
   "source": [
    "Se nota que el promedio de precios subió principalmente debido\n",
    "al mayor peso que se le dio al precio de, precisamente, CEMEXCPO, que tiene uno de los más altos."
   ]
  },
  {
   "cell_type": "markdown",
   "metadata": {},
   "source": [
    "**Media armónica**"
   ]
  },
  {
   "cell_type": "markdown",
   "metadata": {},
   "source": [
    "****\n",
    "La media armónica es el recíproco de la media aritmética de los recíprocos de los\n",
    "valores individuales\n",
    "****"
   ]
  },
  {
   "attachments": {
    "image.png": {
     "image/png": "[encoded data removed]"
    }
   },
   "cell_type": "markdown",
   "metadata": {},
   "source": [
    "![image.png](attachment:image.png)"
   ]
  },
  {
   "cell_type": "markdown",
   "metadata": {},
   "source": [
    "Se le suele utilizar para promediar distintas velocidades desarrolladas en distancias iguales"
   ]
  },
  {
   "cell_type": "markdown",
   "metadata": {},
   "source": [
    "ejercicio 3.5"
   ]
  },
  {
   "cell_type": "code",
   "execution_count": 40,
   "metadata": {},
   "outputs": [],
   "source": [
    "velocidad_promedio = {\n",
    "    \"A\" : 100,\n",
    "    \"B\" : 120,\n",
    "    \"C\" : 140\n",
    "}\n",
    "km_conducidos = 3000  # 1000 km cada conductor"
   ]
  },
  {
   "cell_type": "code",
   "execution_count": 41,
   "metadata": {},
   "outputs": [
    {
     "name": "stdout",
     "output_type": "stream",
     "text": [
      "120.0\n"
     ]
    }
   ],
   "source": [
    "# media aritmética\n",
    "print(mean(velocidad_promedio.values()))"
   ]
  },
  {
   "cell_type": "markdown",
   "metadata": {},
   "source": [
    "En este ejemplo no es correcto usar la media aritmética porque\n",
    "eso supondría que los conductores manejaron el mismo número\n",
    "de horas, lo cual no es el caso, evidentemente, porque el conductor\n",
    "más veloz manejó durante menos tiempo y viceversa. El promedio\n",
    "correcto es la media armónica, 117.757 kilómetros por hora.\n",
    "\n",
    "En otras palabras, si el promedio de velocidad fuera la media aritmética de 120 km/h entonces la distancia recorrida en\n",
    "total por los 3 pilotos sería:\n",
    "\n",
    "- Conductor A: 1 000/100 10 horas de manejo\n",
    "- Conductor B: 1 000/120 8.3333 horas de manejo, y\n",
    "- Conductor C: 1 000/140 7.1428 horas de manejo, para un total de 25.4761 horas.\n"
   ]
  },
  {
   "cell_type": "code",
   "execution_count": 65,
   "metadata": {},
   "outputs": [
    {
     "name": "stdout",
     "output_type": "stream",
     "text": [
      "Conductor A 10.0 horas de manejo\n",
      "Conductor B 8.333333333333334 horas de manejo\n",
      "Conductor C 7.142857142857143 horas de manejo\n"
     ]
    }
   ],
   "source": [
    "km_x_conductor = km_conducidos / len(velocidad_promedio)\n",
    "print(f'Conductor A {km_x_conductor /velocidad_promedio[\"A\"]} horas de manejo')\n",
    "print(f'Conductor B {km_x_conductor /velocidad_promedio[\"B\"]} horas de manejo')\n",
    "print(f'Conductor C {km_x_conductor /velocidad_promedio[\"C\"]} horas de manejo')\n",
    "km_recorridos =  sum(km_x_conductor / x for x in velocidad_promedio.values())"
   ]
  },
  {
   "cell_type": "code",
   "execution_count": 54,
   "metadata": {},
   "outputs": [],
   "source": [
    "from typing import List\n",
    "\n",
    "# media armonica\n",
    "def mean_armonic(xs: List[float]) -> float:\n",
    "    return len(xs) / sum(1 / x for x in xs)"
   ]
  },
  {
   "cell_type": "markdown",
   "metadata": {},
   "source": [
    "\n",
    "En este tiempo y a una velocidad promedio de 120 km/h se\n",
    "recorrería un total de 120 × 25.4761 = 3057 kilómetros, lo cual no fue lo supuesto.\n",
    "\n",
    "Por otro lado, a una velocidad de 117.757, la distancia recorrida en 25.4761 horas serían los 3 000 kilómetros planteados:\n",
    "\n",
    "25.4761 × 117.757 = 2999.989 y la pequeña diferencia se debe a redondeo"
   ]
  },
  {
   "cell_type": "code",
   "execution_count": 68,
   "metadata": {},
   "outputs": [
    {
     "name": "stdout",
     "output_type": "stream",
     "text": [
      "Kilometros recorridos por los 3 pilotos:  25.476190476190478\n",
      "Media armónica:  117.7570093457944\n",
      "Recorrido total de: 3000.0000000000005\n"
     ]
    }
   ],
   "source": [
    "velocidad_conductor_media_armonica = mean_armonic(velocidad_promedio.values())\n",
    "print(\"Kilometros recorridos por los 3 pilotos: \",km_recorridos)\n",
    "print(\"Media armónica: \",velocidad_conductor_media_armonica)\n",
    "print(f'Recorrido total de: {(km_recorridos) * velocidad_conductor_media_armonica}')\n"
   ]
  },
  {
   "cell_type": "markdown",
   "metadata": {},
   "source": [
    "ejercicio 3.6"
   ]
  },
  {
   "cell_type": "markdown",
   "metadata": {},
   "source": [
    "Una fábrica de juguetes se asignó a un grupo de 4 trabajadores\n",
    "para completar una orden de 700 juguetes y la productividad de\n",
    "cada trabajador es diferente según se muestra en la siguiente tabla:"
   ]
  },
  {
   "cell_type": "code",
   "execution_count": 69,
   "metadata": {},
   "outputs": [],
   "source": [
    "productividad_trabajador = {\n",
    "    \"A\" : 10, # minutos x juguete\n",
    "    \"B\" : 6,\n",
    "    \"C\" : 15,\n",
    "    \"D\" : 4\n",
    "}\n",
    "juguetes = 700"
   ]
  },
  {
   "cell_type": "markdown",
   "metadata": {},
   "source": [
    "Determine el número total de minutos que se requiere para\n",
    "completar la orden."
   ]
  },
  {
   "cell_type": "markdown",
   "metadata": {},
   "source": [
    "se puede calcular una media del número de juguetes que\n",
    "cada trabajador produce, ponderada por el tiempo que cada uno\n",
    "de ellos se tarda en fabricarlos:"
   ]
  },
  {
   "cell_type": "code",
   "execution_count": 74,
   "metadata": {},
   "outputs": [
    {
     "name": "stdout",
     "output_type": "stream",
     "text": [
      "8.75  min. por juguete\n"
     ]
    }
   ],
   "source": [
    "# media aritmética\n",
    "print(mean(productividad_trabajador.values()),' min. por juguete')"
   ]
  },
  {
   "cell_type": "markdown",
   "metadata": {},
   "source": [
    "Sin embargo, como lo que interesa es saber cuánto tiempo se\n",
    "requiere para cubrir la orden aprovechando al máximo la productividad de los trabajadores, se utiliza la media armónica con\n",
    "los siguientes resultados"
   ]
  },
  {
   "cell_type": "code",
   "execution_count": 79,
   "metadata": {},
   "outputs": [
    {
     "name": "stdout",
     "output_type": "stream",
     "text": [
      "Trabajador  A 17.5 x juguete \n",
      "Trabajador B 29.166666666666668 x juguete \n",
      "Trabajador C 11.666666666666666 x juguete \n",
      "Trabajador D 43.75 x juguete \n",
      "Suma: 102.08333333333333\n"
     ]
    }
   ],
   "source": [
    "# a cada trabajador se le asigna el mismo número de juguetes,\n",
    "asignacion = juguetes / len(productividad_trabajador)\n",
    "assert asignacion == 175\n",
    "\n",
    "print(f'Trabajador  A {asignacion / productividad_trabajador[\"A\"]} x juguete ')\n",
    "print(f'Trabajador B {asignacion / productividad_trabajador[\"B\"]} x juguete ')\n",
    "print(f'Trabajador C {asignacion / productividad_trabajador[\"C\"]} x juguete ')\n",
    "print(f'Trabajador D {asignacion / productividad_trabajador[\"D\"]} x juguete ')\n",
    "juguetes_fabricados =  sum(asignacion / x for x in productividad_trabajador.values())\n",
    "print(\"Suma:\",juguetes_fabricados)"
   ]
  },
  {
   "cell_type": "markdown",
   "metadata": {},
   "source": [
    "O sea que se pueden fabricar, en promedio, 6.857 por minuto y, para completar la orden de 700 juguetes se requieren 6.85 x 700 = 4800 min"
   ]
  },
  {
   "cell_type": "code",
   "execution_count": 80,
   "metadata": {},
   "outputs": [
    {
     "name": "stdout",
     "output_type": "stream",
     "text": [
      "Tiempo de cada trabajador:  102.08333333333333\n",
      "Media armónica:  6.857142857142857\n",
      "Se requieren : 4800.0 minutos\n"
     ]
    }
   ],
   "source": [
    "tiempo_juguete_media_armonica = mean_armonic(productividad_trabajador.values())\n",
    "print(\"Tiempo de cada trabajador: \",juguetes_fabricados)\n",
    "print(\"Media armónica: \",tiempo_juguete_media_armonica)\n",
    "print(f'Se requieren : {(juguetes) * tiempo_juguete_media_armonica} minutos')\n"
   ]
  },
  {
   "cell_type": "markdown",
   "metadata": {},
   "source": []
  }
 ],
 "metadata": {
  "kernelspec": {
   "display_name": "base",
   "language": "python",
   "name": "python3"
  },
  "language_info": {
   "codemirror_mode": {
    "name": "ipython",
    "version": 3
   },
   "file_extension": ".py",
   "mimetype": "text/x-python",
   "name": "python",
   "nbconvert_exporter": "python",
   "pygments_lexer": "ipython3",
   "version": "3.12.7"
  }
 },
 "nbformat": 4,
 "nbformat_minor": 2
}
