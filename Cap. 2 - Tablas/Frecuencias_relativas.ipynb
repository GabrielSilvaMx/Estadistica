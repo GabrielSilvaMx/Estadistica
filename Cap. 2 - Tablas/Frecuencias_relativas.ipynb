{
 "cells": [
  {
   "cell_type": "markdown",
   "metadata": {},
   "source": [
    "Frecuencias absolutas, relativas y acumuladas"
   ]
  },
  {
   "cell_type": "markdown",
   "metadata": {},
   "source": [
    "se manejaron frecuencias absolutas, ya que simplemente se contaron los elementos que correspondían a cada valor o a cada clase. Sin\n",
    "embargo, en algunas aplicaciones conviene manejar las frecuencias de las series no en forma absoluta sino\n",
    "en forma relativa y también en forma relativa acumulada."
   ]
  },
  {
   "cell_type": "markdown",
   "metadata": {},
   "source": [
    "En las tablas de frecuencias acumuladas simplemente se suman las frecuencias de todas las categorías anteriores, de manera que la frecuencia de cualquiera de esas categorías es igual a la suma de\n",
    "las frecuencias absolutas de todas las categorías precedentes. "
   ]
  },
  {
   "cell_type": "code",
   "execution_count": 1,
   "metadata": {},
   "outputs": [],
   "source": [
    "import funciones as fn\n"
   ]
  },
  {
   "cell_type": "code",
   "execution_count": 2,
   "metadata": {},
   "outputs": [
    {
     "name": "stdout",
     "output_type": "stream",
     "text": [
      "+-----------+----------------+\n",
      "| focos (x) | Frecuencia (f) |\n",
      "+-----------+----------------+\n",
      "|     0     |       22       |\n",
      "|     1     |       18       |\n",
      "|     2     |       6        |\n",
      "|     3     |       2        |\n",
      "|     4     |       1        |\n",
      "|     5     |       1        |\n",
      "+-----------+----------------+\n"
     ]
    }
   ],
   "source": [
    "\n",
    "focos_defectuosos = [0 , 2 , 1 , 0 , 3 , 0 , 2 , 0 , 0 , 1 , 4 , 2 , 5 , 1 , 0 , 1 , 1 , 0 , 0 , 0 , 1 , 0 , 1 , 1 , 0 , 0 , 0 , 2 , 0 , 1 , 2 , 1 , 0 , 0 , 1 , 1 , 0 , 0 , 0 , 1 , 1 , 0 , 1 , 2 , 3 , 0 , 1 , 0 , 1 , 1]\n",
    "\n",
    "# obtener el grupo de focos defectuosos\n",
    "frecuencia_focos = fn.frecuencia(sorted(focos_defectuosos))\n",
    "assert sum(frecuencia_focos.values()) == len(focos_defectuosos)\n",
    "\n",
    "tabla = fn.pretty_table (frecuencia_focos, \"focos (x)\", \"Frecuencia (f)\")\n",
    "print(tabla)\n"
   ]
  },
  {
   "cell_type": "code",
   "execution_count": 3,
   "metadata": {},
   "outputs": [
    {
     "name": "stdout",
     "output_type": "stream",
     "text": [
      "defaultdict(<class 'dict'>, {0: [22, 22, 0.44, 44], 1: [18, 40, 0.36, 36], 2: [6, 46, 0.12, 12], 3: [2, 48, 0.04, 4], 4: [1, 49, 0.02, 2], 5: [1, 50, 0.02, 2]})\n"
     ]
    }
   ],
   "source": [
    "frecuencia_fd = fn.distribucion_relativa(frecuencia_focos)\n",
    "print(frecuencia_fd)\n"
   ]
  },
  {
   "cell_type": "code",
   "execution_count": 5,
   "metadata": {},
   "outputs": [
    {
     "name": "stdout",
     "output_type": "stream",
     "text": [
      "+-------------------+------------+-----------------+----------------------+--------------------+\n",
      "| Focos Defectuosos | Frecuencia | Frec. Acumulada | Frec. relativa (uso) | Frec. relativa (%) |\n",
      "+-------------------+------------+-----------------+----------------------+--------------------+\n",
      "|         0         |     22     |        22       |         0.44         |         44         |\n",
      "|         1         |     18     |        40       |         0.36         |         36         |\n",
      "|         2         |     6      |        46       |         0.12         |         12         |\n",
      "|         3         |     2      |        48       |         0.04         |         4          |\n",
      "|         4         |     1      |        49       |         0.02         |         2          |\n",
      "|         5         |     1      |        50       |         0.02         |         2          |\n",
      "+-------------------+------------+-----------------+----------------------+--------------------+\n",
      "|       Total       |     50     |                 |         1.00         |       100 %        |\n",
      "+-------------------+------------+-----------------+----------------------+--------------------+\n"
     ]
    }
   ],
   "source": [
    "\n",
    "# Tabla de frecuencias de focos defectuosos, incluyendo frecuencias acumuladas y frecuencias relativas\n",
    "table = fn.pretty_table_frec_relativa(\n",
    "    data=frecuencia_fd, \n",
    "    field_names=[\"Focos Defectuosos\", \"Frecuencia\", \"Frec. Acumulada\", \"Frec. relativa (uso)\", \"Frec. relativa (%)\"])\n",
    "print(table)"
   ]
  },
  {
   "cell_type": "markdown",
   "metadata": {},
   "source": [
    "Una utilidad práctica fácilmente identificable de las frecuencias relativas y de las acumuladas es que\n",
    "puede saberse, por ejemplo, la proporción de cada número de artículos defectuosos: puede conocerse\n",
    "que 44% de las cajas no contiene focos defectuosos y que 36% tienen uno."
   ]
  },
  {
   "cell_type": "markdown",
   "metadata": {},
   "source": [
    "********\n",
    "**DISTRIBUCIÓN DE FRECUENCIAS**: Agrupación de datos en clases mutuamente excluyentes, que muestra el número de observaciones que hay en cada clase\n",
    "********"
   ]
  },
  {
   "cell_type": "markdown",
   "metadata": {},
   "source": [
    "*ejemplo 2.6 Elaboración de una serie de datos y frecuencias* "
   ]
  },
  {
   "cell_type": "code",
   "execution_count": 6,
   "metadata": {},
   "outputs": [],
   "source": [
    "baterias_duracion = [163 , 159 , 150 , 136 , 136 , 138 , 155 , 158 , 135 , 166 , 132 , 144 , 125 , 157 , 146 , 145 , 145 , 150 , 144 , 142 , 154 , 139 , 139 , 168 , 158 , 151 , 151 , 153 , 148 , 156 , 152 , 146 , 134 , 158 , 154 , 154 , 154 , 151 , 150 , 154 , 148 , 144 , 156 , 167 , 156 , 141 , 141 , 138 , 148 , 160]"
   ]
  },
  {
   "cell_type": "markdown",
   "metadata": {},
   "source": [
    "Se presentan en la tabla siguiente los tiempos de duración (en\n",
    "horas) para muestra aleatoria de 50 baterías."
   ]
  },
  {
   "cell_type": "code",
   "execution_count": 7,
   "metadata": {},
   "outputs": [
    {
     "name": "stdout",
     "output_type": "stream",
     "text": [
      "+-----------+----------------+\n",
      "| focos (x) | Frecuencia (f) |\n",
      "+-----------+----------------+\n",
      "|    125    |       1        |\n",
      "|    132    |       1        |\n",
      "|    134    |       1        |\n",
      "|    135    |       1        |\n",
      "|    136    |       2        |\n",
      "|    138    |       2        |\n",
      "|    139    |       2        |\n",
      "|    141    |       2        |\n",
      "|    142    |       1        |\n",
      "|    144    |       3        |\n",
      "|    145    |       2        |\n",
      "|    146    |       2        |\n",
      "|    148    |       3        |\n",
      "|    150    |       3        |\n",
      "|    151    |       3        |\n",
      "|    152    |       1        |\n",
      "|    153    |       1        |\n",
      "|    154    |       5        |\n",
      "|    155    |       1        |\n",
      "|    156    |       3        |\n",
      "|    157    |       1        |\n",
      "|    158    |       3        |\n",
      "|    159    |       1        |\n",
      "|    160    |       1        |\n",
      "|    163    |       1        |\n",
      "|    166    |       1        |\n",
      "|    167    |       1        |\n",
      "|    168    |       1        |\n",
      "+-----------+----------------+\n"
     ]
    }
   ],
   "source": [
    "tiempo_duracion_bateria = sorted(baterias_duracion)\n",
    "\n",
    "frecuencia_baterias = fn.frecuencia(tiempo_duracion_bateria)\n",
    "assert sum(frecuencia_baterias.values()) == len(baterias_duracion)\n",
    "\n",
    "tabla = fn.pretty_table (frecuencia_baterias, \"focos (x)\", \"Frecuencia (f)\")\n",
    "print(tabla)"
   ]
  },
  {
   "cell_type": "markdown",
   "metadata": {},
   "source": [
    "*ejemplo 2.7 Elaboración de una serie de clases y frecuencias"
   ]
  },
  {
   "cell_type": "markdown",
   "metadata": {},
   "source": [
    "1. Determine el número de clases o intervalos, utilizando la\n",
    "raíz cuadrada del número de elementos de la serie. Agrupe\n",
    "los datos en 7 clases"
   ]
  },
  {
   "cell_type": "code",
   "execution_count": 8,
   "metadata": {},
   "outputs": [
    {
     "name": "stdout",
     "output_type": "stream",
     "text": [
      "Min: 125 max: 168 Intervalo de clase: 7.166666666666667\n"
     ]
    }
   ],
   "source": [
    "amplitud_clase_baterias = fn.reglaSturges(frecuencia_baterias)\n",
    "print(f'Min: {min(baterias_duracion)} max: {max(baterias_duracion)} Intervalo de clase: {amplitud_clase_baterias}')\n",
    "\n",
    "#trunca el valor de la amplitud de clase\n",
    "amplitud_clase_baterias = int(amplitud_clase_baterias)"
   ]
  },
  {
   "cell_type": "markdown",
   "metadata": {},
   "source": [
    "2. Determine el rango de los datos: el primero y el último de\n",
    "los valores de la serie ordenada en Excel (máximo – mínimo) 168 – 125 = 43."
   ]
  },
  {
   "cell_type": "code",
   "execution_count": 9,
   "metadata": {},
   "outputs": [
    {
     "name": "stdout",
     "output_type": "stream",
     "text": [
      "Rango: 43\n"
     ]
    }
   ],
   "source": [
    "rango_baterias = max(baterias_duracion) - min(baterias_duracion)\n",
    "print(f'Rango: {rango_baterias}')"
   ]
  },
  {
   "cell_type": "markdown",
   "metadata": {},
   "source": [
    "3. Divida el rango entre el número de clases para determinar\n",
    "los intervalos de clase, por lo que se utiliza un intervalo de\n",
    "amplitud 7. "
   ]
  },
  {
   "cell_type": "code",
   "execution_count": 10,
   "metadata": {},
   "outputs": [
    {
     "name": "stdout",
     "output_type": "stream",
     "text": [
      "+--------------------+----------------+\n",
      "|    Baterias (x)    | Frecuencia (f) |\n",
      "+--------------------+----------------+\n",
      "| 120 a menos de 127 |       1        |\n",
      "| 127 a menos de 134 |       1        |\n",
      "| 134 a menos de 141 |       8        |\n",
      "| 141 a menos de 148 |       10       |\n",
      "| 148 a menos de 155 |       16       |\n",
      "| 155 a menos de 162 |       10       |\n",
      "| 162 a menos de 169 |       4        |\n",
      "+--------------------+----------------+\n"
     ]
    }
   ],
   "source": [
    "clase_baterias= fn.distribucion_frecuencia(\n",
    "    tiempo_duracion_bateria, \n",
    "    min=int(round(min(baterias_duracion),-1)),\n",
    "    max=int(max(tiempo_duracion_bateria)), \n",
    "    incr = int(amplitud_clase_baterias)\n",
    ")\n",
    "assert sum(clase_baterias.values()) == len(baterias_duracion)\n",
    "\n",
    "tabla = fn.pretty_table (clase_baterias, \"Baterias (x)\", \"Frecuencia (f)\")\n",
    "print(tabla)\n"
   ]
  },
  {
   "cell_type": "code",
   "execution_count": 11,
   "metadata": {},
   "outputs": [
    {
     "name": "stdout",
     "output_type": "stream",
     "text": [
      "defaultdict(<class 'dict'>, {125: [1, 1, 0.02, 2], 132: [1, 2, 0.02, 2], 134: [1, 3, 0.02, 2], 135: [1, 4, 0.02, 2], 136: [2, 6, 0.04, 4], 138: [2, 8, 0.04, 4], 139: [2, 10, 0.04, 4], 141: [2, 12, 0.04, 4], 142: [1, 13, 0.02, 2], 144: [3, 16, 0.06, 6], 145: [2, 18, 0.04, 4], 146: [2, 20, 0.04, 4], 148: [3, 23, 0.06, 6], 150: [3, 26, 0.06, 6], 151: [3, 29, 0.06, 6], 152: [1, 30, 0.02, 2], 153: [1, 31, 0.02, 2], 154: [5, 36, 0.1, 10], 155: [1, 37, 0.02, 2], 156: [3, 40, 0.06, 6], 157: [1, 41, 0.02, 2], 158: [3, 44, 0.06, 6], 159: [1, 45, 0.02, 2], 160: [1, 46, 0.02, 2], 163: [1, 47, 0.02, 2], 166: [1, 48, 0.02, 2], 167: [1, 49, 0.02, 2], 168: [1, 50, 0.02, 2]})\n"
     ]
    }
   ],
   "source": [
    "frecuencia_fd = fn.distribucion_relativa(frecuencia_baterias)\n",
    "print(frecuencia_fd)"
   ]
  },
  {
   "cell_type": "code",
   "execution_count": 12,
   "metadata": {},
   "outputs": [
    {
     "name": "stdout",
     "output_type": "stream",
     "text": [
      "+-------------------------------+----------------+-----------------+----------------------+--------------------+\n",
      "| Horas de duración de baterías | Frecuencia (f) | Frec. Acumulada | Frec. relativa (uso) | Frec. relativa (%) |\n",
      "+-------------------------------+----------------+-----------------+----------------------+--------------------+\n",
      "|              125              |       1        |        1        |         0.02         |         2          |\n",
      "|              132              |       1        |        2        |         0.02         |         2          |\n",
      "|              134              |       1        |        3        |         0.02         |         2          |\n",
      "|              135              |       1        |        4        |         0.02         |         2          |\n",
      "|              136              |       2        |        6        |         0.04         |         4          |\n",
      "|              138              |       2        |        8        |         0.04         |         4          |\n",
      "|              139              |       2        |        10       |         0.04         |         4          |\n",
      "|              141              |       2        |        12       |         0.04         |         4          |\n",
      "|              142              |       1        |        13       |         0.02         |         2          |\n",
      "|              144              |       3        |        16       |         0.06         |         6          |\n",
      "|              145              |       2        |        18       |         0.04         |         4          |\n",
      "|              146              |       2        |        20       |         0.04         |         4          |\n",
      "|              148              |       3        |        23       |         0.06         |         6          |\n",
      "|              150              |       3        |        26       |         0.06         |         6          |\n",
      "|              151              |       3        |        29       |         0.06         |         6          |\n",
      "|              152              |       1        |        30       |         0.02         |         2          |\n",
      "|              153              |       1        |        31       |         0.02         |         2          |\n",
      "|              154              |       5        |        36       |         0.1          |         10         |\n",
      "|              155              |       1        |        37       |         0.02         |         2          |\n",
      "|              156              |       3        |        40       |         0.06         |         6          |\n",
      "|              157              |       1        |        41       |         0.02         |         2          |\n",
      "|              158              |       3        |        44       |         0.06         |         6          |\n",
      "|              159              |       1        |        45       |         0.02         |         2          |\n",
      "|              160              |       1        |        46       |         0.02         |         2          |\n",
      "|              163              |       1        |        47       |         0.02         |         2          |\n",
      "|              166              |       1        |        48       |         0.02         |         2          |\n",
      "|              167              |       1        |        49       |         0.02         |         2          |\n",
      "|              168              |       1        |        50       |         0.02         |         2          |\n",
      "+-------------------------------+----------------+-----------------+----------------------+--------------------+\n",
      "|             Total             |       50       |                 |         1.00         |       100 %        |\n",
      "+-------------------------------+----------------+-----------------+----------------------+--------------------+\n"
     ]
    }
   ],
   "source": [
    "# Tabla de frecuencias de duración de baterías, incluyendo frecuencias acumuladas y frecuencias relativas\n",
    "table = fn.pretty_table_frec_relativa(\n",
    "    data=frecuencia_fd, \n",
    "    field_names=[\"Horas de duración de baterías\", \"Frecuencia (f)\", \"Frec. Acumulada\", \"Frec. relativa (uso)\", \"Frec. relativa (%)\"])\n",
    "print(table)\n",
    "\n",
    "#suma_frecuencia = sum(frecuencia_fd[key][0] for key in frecuencia_fd)\n",
    "#frec_relativa = sum(frecuencia_fd[key][2] for key in frecuencia_fd)\n",
    "#print (f'\\tTotal: \\t {suma_frecuencia}',\n",
    "#       '\\t\\tFrec. relativa: \\t{0:.2f}'.format(frec_relativa),'\\t\\t{0:.2f}'.format(frec_relativa*100),' %' )\n"
   ]
  }
 ],
 "metadata": {
  "kernelspec": {
   "display_name": "base",
   "language": "python",
   "name": "python3"
  },
  "language_info": {
   "codemirror_mode": {
    "name": "ipython",
    "version": 3
   },
   "file_extension": ".py",
   "mimetype": "text/x-python",
   "name": "python",
   "nbconvert_exporter": "python",
   "pygments_lexer": "ipython3",
   "version": "3.12.7"
  }
 },
 "nbformat": 4,
 "nbformat_minor": 2
}
