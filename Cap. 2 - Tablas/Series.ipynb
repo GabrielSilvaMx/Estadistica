{
 "cells": [
  {
   "cell_type": "markdown",
   "metadata": {},
   "source": [
    "******\n",
    "**TABLA DE FRECUENCIAS**: Agrupación de datos cualitativos en clases mutuamente excluyentes que muestra el número de observaciones en cada clase.\n",
    "******"
   ]
  },
  {
   "cell_type": "markdown",
   "metadata": {},
   "source": [
    "La tabla 2.1 contiene 3 series simples de 72 salarios_zona_A_zona_A mínimos, uno para cada una de las 3 zonas geográficas. En otras palabras, una sola serie simple sería el conjunto de los 72 salarios\n",
    "profesionales de la zona A; otra representaría los de la zona B, y\n",
    "la tercera estaría constituida por los de la zona C."
   ]
  },
  {
   "cell_type": "code",
   "execution_count": 1,
   "metadata": {},
   "outputs": [],
   "source": [
    "# areas geográficas \n",
    "A = [87.17 , 75.86 , 91.83 , 77.33 , 82.31 , 79.13 , 85.57 , 88.45 , 80.01 , 85.20 , 80.65 , 78.28 , 77.20 , 79.50 , 81.28 , 89.20 , 86.39 , 82.69 , 92.78 , 86.97 , 85.20 , 86.14 , 82.69 , 75.61 , 78.68 , 81.28 , 80.45 , 83.33 , 77.20 , 83.97 , 85.57 , 87.67 , 81.28 , 84.67 , 90.38 , 77.90 , 92.14 , 74.65 , 87.67 , 83.33 , 90.38 , 84.67 , 82.69 , 78.28 , 82.31 , 81.28 , 86.14 , 83.97 , 83.33 , 77.33 , 83.51 , 87.17 , 81.28 , 86.97 , 75.61 , 78.68 , 82.31 , 179.20 , 179.20 , 87.17 , 87.67 , 90.20 , 86.14 , 81.28 , 81.28 , 82.69 , 82.69 , 98.60 , 75.61 , 77.20 , 79.50 , 78.28]\n",
    "B = [84.92 , 73.84 , 89.21 , 75.43 , 80.25 , 76.98 , 83.21 , 86.15 , 77.94 , 83.06 , 78.71 , 76.34 , 74.98 , 77.48 , 79.10 , 86.91 , 84.09 , 80.70 , 90.44 , 84.66 , 83.06 , 83.84 , 80.70 , 73.64 , 76.59 , 79.10 , 78.13 , 81.08 , 74.98 , 81.78 , 83.21 , 85.51 , 79.10 , 82.62 , 88.19 , 75.84 , 89.80 , 72.80 , 85.51 , 81.08 , 88.19 , 82.62 , 80.70 , 76.34 , 80.25 , 79.10 , 83.84 , 81.78 , 81.08 , 75.43 , 81.47 , 84.92 , 79.10 , 84.66 , 73.64 , 76.59 , 80.25 , 174.67 , 174.67 , 84.92 , 85.51 , 87.67 , 83.84 , 79.10 , 79.10 , 80.70 , 80.70 , 95.88 , 73.64 , 74.98 , 77.48 , 76.34]\n",
    "C = [82.63 , 71.97 , 86.89 , 73.52 , 77.95 , 74.98 , 80.98 , 83.74 , 76.00 , 80.78 , 76.47 , 74.34 , 73.32 , 75.31 , 76.91 , 84.64 , 81.74 , 78.46 , 87.86 , 82.32 , 80.78 , 81.49 , 78.46 , 71.32 , 74.59 , 76.91 , 76.15 , 78.85 , 73.32 , 79.48 , 80.98 , 83.23 , 76.91 , 80.33 , 85.87 , 73.68 , 87.23 , 70.86 , 83.23 , 78.85 , 85.87 , 80.33 , 78.46 , 74.34 , 77.95 , 76.91 , 81.49 , 79.48 , 78.85 , 73.52 , 79.17 , 82.63 , 76.91 , 82.32 , 71.32 , 74.59 , 77.95 , 169.60 , 169.60 , 82.63 , 83.23 , 85.51 , 81.49 , 76.91 , 76.91 , 78.46 , 78.46 , 93.39 , 71.32 , 73.32 , 75.31 , 74.34]"
   ]
  },
  {
   "cell_type": "markdown",
   "metadata": {},
   "source": [
    "*2.2.1.2 Series de datos y frecuencias*"
   ]
  },
  {
   "cell_type": "markdown",
   "metadata": {},
   "source": [
    "Esta serie simple ordenada ofrece cierta información adicional: el oficio con el menor salario mínimo es\n",
    "el de manejador en granja avícola, y el que tiene el mayor salario es el de reportero(a) gráfico(a) en prensa\n",
    "diaria impresa. Como los datos de la serie simple anterior son numerosos, ya que está conformada por 72\n",
    "oficios, conviene compactarlos para apreciar mejor la composición de los salarios. "
   ]
  },
  {
   "cell_type": "code",
   "execution_count": 54,
   "metadata": {},
   "outputs": [
    {
     "name": "stdout",
     "output_type": "stream",
     "text": [
      "[74.65, 75.61, 75.61, 75.61, 75.86, 77.2, 77.2, 77.2, 77.33, 77.33, 77.9, 78.28, 78.28, 78.28, 78.68, 78.68, 79.13, 79.5, 79.5, 80.01, 80.45, 80.65, 81.28, 81.28, 81.28, 81.28, 81.28, 81.28, 81.28, 82.31, 82.31, 82.31, 82.69, 82.69, 82.69, 82.69, 82.69, 83.33, 83.33, 83.33, 83.51, 83.97, 83.97, 84.67, 84.67, 85.2, 85.2, 85.57, 85.57, 86.14, 86.14, 86.14, 86.39, 86.97, 86.97, 87.17, 87.17, 87.17, 87.67, 87.67, 87.67, 88.45, 89.2, 90.2, 90.38, 90.38, 91.83, 92.14, 92.78, 98.6, 179.2, 179.2]\n"
     ]
    }
   ],
   "source": [
    "# series simples\n",
    "area_A = sorted(A)\n",
    "area_B = sorted(B)\n",
    "area_C = sorted(C)\n",
    "\n",
    "print(area_A)"
   ]
  },
  {
   "cell_type": "markdown",
   "metadata": {},
   "source": [
    "Para ello, en la tabla 2.3\n",
    "se les agrupa en una serie de datos y frecuencias que utiliza la serie ordenada de la tabla 2.2, y cuenta las\n",
    "veces que aparece cada salario."
   ]
  },
  {
   "cell_type": "code",
   "execution_count": null,
   "metadata": {},
   "outputs": [
    {
     "name": "stdout",
     "output_type": "stream",
     "text": [
      "defaultdict(<class 'int'>, {74.65: 1, 75.61: 3, 75.86: 1, 77.2: 3, 77.33: 2, 77.9: 1, 78.28: 3, 78.68: 2, 79.13: 1, 79.5: 2, 80.01: 1, 80.45: 1, 80.65: 1, 81.28: 7, 82.31: 3, 82.69: 5, 83.33: 3, 83.51: 1, 83.97: 2, 84.67: 2, 85.2: 2, 85.57: 2, 86.14: 3, 86.39: 1, 86.97: 2, 87.17: 3, 87.67: 3, 88.45: 1, 89.2: 1, 90.2: 1, 90.38: 2, 91.83: 1, 92.14: 1, 92.78: 1, 98.6: 1, 179.2: 2})\n"
     ]
    }
   ],
   "source": [
    "# Salarios mínimos diferentes de la zona geográfica A\n",
    "from collections import defaultdict\n",
    "salarios_zona_A = defaultdict(int)\n",
    "for salario_minimo in area_A:\n",
    "    salarios_zona_A[salario_minimo] += 1\n",
    "#serie de datos con frecuencia f\n",
    "print(salarios_zona_A)\n"
   ]
  },
  {
   "cell_type": "markdown",
   "metadata": {},
   "source": [
    "Nótese cómo la suma de las frecuencias es precisamente el número de salarios de todos los trabajadores considerados en la tabla original"
   ]
  },
  {
   "cell_type": "code",
   "execution_count": 67,
   "metadata": {},
   "outputs": [
    {
     "name": "stdout",
     "output_type": "stream",
     "text": [
      "72\n"
     ]
    }
   ],
   "source": [
    "# sumar la cantidad de salarios mínimos\n",
    "suma_salarios = sum(map(lambda x: x[1], salarios_zona_A.items()))\n",
    "print(suma_salarios)\n",
    "\n",
    "assert suma_salarios == len(A)"
   ]
  },
  {
   "cell_type": "code",
   "execution_count": null,
   "metadata": {},
   "outputs": [],
   "source": [
    "\n",
    "from prettytable import PrettyTable\n",
    "\n",
    "def pretty_table(data, varX=\"x\", frecuencia=\"f\"):\n",
    "    table = PrettyTable()\n",
    "    table.field_names = [varX, frecuencia]\n",
    "    for key, value in data.items():\n",
    "        table.add_row([key, value])\n",
    "    return table"
   ]
  },
  {
   "cell_type": "code",
   "execution_count": null,
   "metadata": {},
   "outputs": [
    {
     "name": "stdout",
     "output_type": "stream",
     "text": [
      "+--------------------------+----------------+\n",
      "| Salario de la Zona A (x) | Frecuencia (f) |\n",
      "+--------------------------+----------------+\n",
      "|          74.65           |       1        |\n",
      "|          75.61           |       3        |\n",
      "|          75.86           |       1        |\n",
      "|           77.2           |       3        |\n",
      "|          77.33           |       2        |\n",
      "|           77.9           |       1        |\n",
      "|          78.28           |       3        |\n",
      "|          78.68           |       2        |\n",
      "|          79.13           |       1        |\n",
      "|           79.5           |       2        |\n",
      "|          80.01           |       1        |\n",
      "|          80.45           |       1        |\n",
      "|          80.65           |       1        |\n",
      "|          81.28           |       7        |\n",
      "|          82.31           |       3        |\n",
      "|          82.69           |       5        |\n",
      "|          83.33           |       3        |\n",
      "|          83.51           |       1        |\n",
      "|          83.97           |       2        |\n",
      "|          84.67           |       2        |\n",
      "|           85.2           |       2        |\n",
      "|          85.57           |       2        |\n",
      "|          86.14           |       3        |\n",
      "|          86.39           |       1        |\n",
      "|          86.97           |       2        |\n",
      "|          87.17           |       3        |\n",
      "|          87.67           |       3        |\n",
      "|          88.45           |       1        |\n",
      "|           89.2           |       1        |\n",
      "|           90.2           |       1        |\n",
      "|          90.38           |       2        |\n",
      "|          91.83           |       1        |\n",
      "|          92.14           |       1        |\n",
      "|          92.78           |       1        |\n",
      "|           98.6           |       1        |\n",
      "|          179.2           |       2        |\n",
      "+--------------------------+----------------+\n"
     ]
    }
   ],
   "source": [
    "# mostrar la variable salarios_zona_A en formato visual de tabla\n",
    "tabla = pretty_table (salarios_zona_A, \"Salario de la Zona A (x)\", \"Frecuencia (f)\")\n",
    "print(tabla)"
   ]
  },
  {
   "cell_type": "markdown",
   "metadata": {},
   "source": [
    "Ahora se procede a\n",
    "establecer x, no por valores únicos, sino por intervalos o clases de valores."
   ]
  },
  {
   "cell_type": "code",
   "execution_count": null,
   "metadata": {},
   "outputs": [],
   "source": [
    "def distribucion_frecuencia(serie:list, min=0, max=10, incr=10) -> dict:\n",
    "    # crear un diccionario con indice de min a max con incrementos de incr\n",
    "    distribucion = defaultdict(int)\n",
    "    for i in range(min, max, incr):\n",
    "        distribucion[f'{i} a menos de {( i + incr )}'] = 0\n",
    "        # sumar los valores de la serie que cumplan con la condición\n",
    "        distribucion[f'{i} a menos de {( i + incr )}'] = sum(map(lambda x: i <= x < i + incr, serie))\n",
    "    return distribucion    "
   ]
  },
  {
   "cell_type": "markdown",
   "metadata": {},
   "source": [
    "Antes se revisó que los valores máximo y mínimo de los salarios de la\n",
    "zona A son 179.2 y 74.65, respectivamente. Si se resta el segundo al primero,\n",
    "179.2 – 74.65 = 104.55, se obtiene el rango dentro del que se encuentran\n",
    "todos los salarios. \n",
    "\n",
    "Si se redondea este rango a 110, existe la posibilidad de\n",
    "dividir ese rango de valores de aproximadamente 110 unidades que van de\n",
    "un valor redondo, inferior al mínimo, 70,\n",
    "hasta otro valor redondo superior al máximo, 180 en 10 intervalos de 10 unidades,\n",
    "de la siguiente manera:"
   ]
  },
  {
   "cell_type": "code",
   "execution_count": 76,
   "metadata": {},
   "outputs": [
    {
     "name": "stdout",
     "output_type": "stream",
     "text": [
      "Rango Salario A: 104.55 Min: 74.65 Max: 179.2\n",
      "+------------------------+----------------+\n",
      "| Clases de Salarios (x) | Frecuencia (f) |\n",
      "+------------------------+----------------+\n",
      "|    70 a menos de 80    |       19       |\n",
      "|    80 a menos de 90    |       44       |\n",
      "|   90 a menos de 100    |       7        |\n",
      "|   100 a menos de 110   |       0        |\n",
      "|   110 a menos de 120   |       0        |\n",
      "|   120 a menos de 130   |       0        |\n",
      "|   130 a menos de 140   |       0        |\n",
      "|   140 a menos de 150   |       0        |\n",
      "|   150 a menos de 160   |       0        |\n",
      "|   160 a menos de 170   |       0        |\n",
      "|   170 a menos de 180   |       2        |\n",
      "|   180 a menos de 190   |       0        |\n",
      "|   190 a menos de 200   |       0        |\n",
      "+------------------------+----------------+\n"
     ]
    }
   ],
   "source": [
    "rango_salarios = round(max(area_A) - min(area_A), 2)\n",
    "print(f'Rango Salario A: {rango_salarios} Min: {min(area_A)} Max: {max(area_A)}')\n",
    "\n",
    "clase_salarios_A= distribucion_frecuencia(\n",
    "    area_A, \n",
    "    min=int(round(min(area_A), -1)),\n",
    "    max=int(round(max(area_A), -2))\n",
    ")\n",
    "\n",
    "suma_salarios = sum(map(lambda x: x[1], clase_salarios_A.items()))\n",
    "assert suma_salarios == len(A)\n",
    "\n",
    "tabla = pretty_table (clase_salarios_A, \"Clases de Salarios (x)\", \"Frecuencia (f)\")\n",
    "print(tabla)"
   ]
  },
  {
   "cell_type": "code",
   "execution_count": 77,
   "metadata": {},
   "outputs": [
    {
     "name": "stdout",
     "output_type": "stream",
     "text": [
      "Rango Salario B: 101.87 Min: 72.8 Max: 174.67\n",
      "+------------------------+----------------+\n",
      "| Clases de Salarios (x) | Frecuencia (f) |\n",
      "+------------------------+----------------+\n",
      "|    70 a menos de 80    |       29       |\n",
      "|    80 a menos de 90    |       39       |\n",
      "|   90 a menos de 100    |       2        |\n",
      "|   100 a menos de 110   |       0        |\n",
      "|   110 a menos de 120   |       0        |\n",
      "|   120 a menos de 130   |       0        |\n",
      "|   130 a menos de 140   |       0        |\n",
      "|   140 a menos de 150   |       0        |\n",
      "|   150 a menos de 160   |       0        |\n",
      "|   160 a menos de 170   |       0        |\n",
      "|   170 a menos de 180   |       2        |\n",
      "|   180 a menos de 190   |       0        |\n",
      "|   190 a menos de 200   |       0        |\n",
      "+------------------------+----------------+\n"
     ]
    }
   ],
   "source": [
    "rango_salarios = round(max(area_B) - min(area_B), 2)\n",
    "print(f'Rango Salario B: {rango_salarios} Min: {min(area_B)} Max: {max(area_B)}')\n",
    "\n",
    "clase_salarios_B= distribucion_frecuencia(\n",
    "    area_B, \n",
    "    min=int(round(min(area_B), -1)),\n",
    "    max=int(round(max(area_B), -2))\n",
    ")\n",
    "tabla = pretty_table (clase_salarios_B, \"Clases de Salarios (x)\", \"Frecuencia (f)\")\n",
    "print(tabla)"
   ]
  },
  {
   "cell_type": "code",
   "execution_count": null,
   "metadata": {},
   "outputs": [
    {
     "name": "stdout",
     "output_type": "stream",
     "text": [
      "Rango Salario C: 99.0 Min: 70.86 Max: 169.6\n",
      "+------------------------+----------------+\n",
      "| Clases de Salarios (x) | Frecuencia (f) |\n",
      "+------------------------+----------------+\n",
      "|    70 a menos de 80    |       43       |\n",
      "|    80 a menos de 90    |       26       |\n",
      "|   90 a menos de 100    |       1        |\n",
      "|   100 a menos de 110   |       0        |\n",
      "|   110 a menos de 120   |       0        |\n",
      "|   120 a menos de 130   |       0        |\n",
      "|   130 a menos de 140   |       0        |\n",
      "|   140 a menos de 150   |       0        |\n",
      "|   150 a menos de 160   |       0        |\n",
      "|   160 a menos de 170   |       2        |\n",
      "|   170 a menos de 180   |       0        |\n",
      "|   180 a menos de 190   |       0        |\n",
      "|   190 a menos de 200   |       0        |\n",
      "+------------------------+----------------+\n"
     ]
    }
   ],
   "source": [
    "rango_salarios = round(max(area_C) - min(area_C), 2)\n",
    "print(f'Rango Salario C: {rango_salarios} Min: {min(area_C)} Max: {max(area_C)}')\n",
    "\n",
    "clase_salarios_C= distribucion_frecuencia(\n",
    "    area_C, \n",
    "    min=int(round(min(area_C), -1)),\n",
    "    max=int(round(max(area_C), -2))\n",
    ")\n",
    "tabla = pretty_table (clase_salarios_C, \"Clases de Salarios (x)\", \"Frecuencia (f)\")\n",
    "print(tabla)"
   ]
  },
  {
   "cell_type": "markdown",
   "metadata": {},
   "source": [
    "Es muy importante tener un detalle en cuenta sobre estos 3 tipos de tablas en las que se presentaron los datos de los salarios mínimos, se trata de que mientras que la tabla simple y la de datos y frecuencias contienen exactamente los mismos datos (en la primera sin agrupar y en la segunda agrupados), en la tabla de clases y frecuencias se pierde un poco de información y no se puede reconstruir si no se cuenta con los datos originales. \n",
    "\n",
    "El primer intervalo, “70 a menos de 80”, tiene 19 observaciones; en otras palabras, hay 19 datos que están entre los valores de 70 y 80 pero si no se contara con los datos originales y completos de la Conasami, no habría manera de determinar el valor preciso de esos 19 datos. Esto resultaría ser un inconveniente en algunos casos pero por lo general no es un problema, sobre todo cuando se trata de condensar grandes cantidades de datos, como en los censos, por ejemplo."
   ]
  },
  {
   "cell_type": "markdown",
   "metadata": {},
   "source": [
    "Lo que salta a la vista es que en las 3 zonas geográficas los salarios se concentran\n",
    "en la parte baja de la escala, y una segunda conclusión es que en la zona B, de menor\n",
    "nivel de costo de vida que la A, los salarios están aún más concentrados en la zona de\n",
    "los salarios más bajos, asimismo esta tendencia es todavía mayor en la zona de menor\n",
    "nivel, la zona C"
   ]
  }
 ],
 "metadata": {
  "kernelspec": {
   "display_name": "base",
   "language": "python",
   "name": "python3"
  },
  "language_info": {
   "codemirror_mode": {
    "name": "ipython",
    "version": 3
   },
   "file_extension": ".py",
   "mimetype": "text/x-python",
   "name": "python",
   "nbconvert_exporter": "python",
   "pygments_lexer": "ipython3",
   "version": "3.12.7"
  }
 },
 "nbformat": 4,
 "nbformat_minor": 2
}
