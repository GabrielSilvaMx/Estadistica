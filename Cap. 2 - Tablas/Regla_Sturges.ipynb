{
 "cells": [
  {
   "cell_type": "markdown",
   "metadata": {},
   "source": [
    "la regla de Sturges, que consiste en obtener una primera aproximación de cuántas clases debe tener la serie de clases y frecuencias mediante la raíz cuadrada del número de elementos. "
   ]
  },
  {
   "cell_type": "code",
   "execution_count": null,
   "metadata": {},
   "outputs": [],
   "source": [
    "from collections import defaultdict\n",
    "\n",
    "empleados = [40 , 50 , 42 , 40 , 41 , 54 , 47 , 55 , 30 , 45 , 21 , 70 , 60 , 31 , 45 , 50 , 54 , 50 , 30 , 35 , 30 , 19 , 50 , 52 , 29 , 25 , 60 , 60 , 34 , 47 , 50 , 45 , 60 , 55 , 30 , 35 , 40 , 48 , 43 , 56 , 70 , 58 , 50 , 65 , 32 , 41 , 48 , 40 , 55 , 53 , 51 , 68 , 65 , 85 , 49 , 75 , 45 , 52 , 40 , 42 , 47 , 66 , 58 , 20 , 48 , 37 , 69 , 55 , 65 , 53 , 49 , 46 , 40 , 51 , 55 , 73 , 20 , 50 , 75 , 52]"
   ]
  },
  {
   "cell_type": "code",
   "execution_count": null,
   "metadata": {},
   "outputs": [],
   "source": [
    "from prettytable import PrettyTable\n",
    "\n",
    "def pretty_table(data=dict, varX=\"x\", frecuencia=\"f\"):\n",
    "    table = PrettyTable()\n",
    "    table.field_names = [varX, frecuencia]\n",
    "    for key, value in data.items():\n",
    "        table.add_row([key, value])\n",
    "    return table"
   ]
  },
  {
   "cell_type": "code",
   "execution_count": 25,
   "metadata": {},
   "outputs": [],
   "source": [
    "def regla_Sturges(datos):\n",
    "    k = 1 + 3.322 * (math.log10(len(datos)))\n",
    "    return float(k)\n",
    "\n",
    "def reglaSturges(datos):\n",
    "     # Determinar el número de clases o intervalos utilizando la raíz cuadrada del número de elementos de la serie.\n",
    "     intervalos = math.ceil(math.sqrt(len(datos)))\n",
    "     # Establecer el rango de los datos: máximo – mínimo\n",
    "     rango = max(datos) - min(datos)\n",
    "     # Dividir el rango entre el número de clases para determinar los intervalos de clase \n",
    "     # (este paso normalmente requiere de redondeos y ajustes para llegar, de preferencia, \n",
    "     # a valores enteros y gruesos, como decenas, por ejemplo)\n",
    "     amplitud_clase = rango / intervalos\n",
    "     # Determinar cuántos de los datos caen dentro de cada clase     \n",
    "     return amplitud_clase"
   ]
  },
  {
   "cell_type": "code",
   "execution_count": 26,
   "metadata": {},
   "outputs": [],
   "source": [
    "def distribucion_frecuencia(serie:list, min=0, max=10, incr=10) -> dict:\n",
    "    # crear un diccionario con indice de min a max con incrementos de incr\n",
    "    distribucion = defaultdict(int)\n",
    "    for i in range(min, max, incr):\n",
    "        distribucion[f'{i} a menos de {( i + incr )}'] = 0\n",
    "        # sumar los valores de la serie que cumplan con la condición\n",
    "        distribucion[f'{i} a menos de {( i + incr )}'] = sum(map(lambda x: i <= x < i + incr, serie))\n",
    "    return distribucion  "
   ]
  },
  {
   "cell_type": "code",
   "execution_count": 40,
   "metadata": {},
   "outputs": [
    {
     "name": "stdout",
     "output_type": "stream",
     "text": [
      "Rango Salario A: 66 Min: 19 Max: 85\n",
      "8\n",
      "defaultdict(<class 'int'>, {'18 a menos de 26': 5, '26 a menos de 34': 7, '34 a menos de 42': 12, '42 a menos de 50': 16, '50 a menos de 58': 22, '58 a menos de 66': 9, '66 a menos de 74': 6, '74 a menos de 82': 2, '82 a menos de 90': 1})\n",
      "+------------------+----------------+\n",
      "|    Edades (x)    | Frecuencia (f) |\n",
      "+------------------+----------------+\n",
      "| 18 a menos de 26 |       5        |\n",
      "| 26 a menos de 34 |       7        |\n",
      "| 34 a menos de 42 |       12       |\n",
      "| 42 a menos de 50 |       16       |\n",
      "| 50 a menos de 58 |       22       |\n",
      "| 58 a menos de 66 |       9        |\n",
      "| 66 a menos de 74 |       6        |\n",
      "| 74 a menos de 82 |       2        |\n",
      "| 82 a menos de 90 |       1        |\n",
      "+------------------+----------------+\n"
     ]
    }
   ],
   "source": [
    "rango_empleados = round(max(empleados) - min(empleados), 2)\n",
    "print(f'Rango Salario A: {rango_empleados} Min: {min(empleados)} Max: {max(empleados)}')\n",
    "\n",
    "edad_empleados = sorted(empleados)\n",
    "\n",
    "amplitud_clase = reglaSturges(edad_empleados)\n",
    "print(math.ceil(amplitud_clase))\n",
    "\n",
    "# Como el mínimo es 19, parece adecuado empezar la primera clase en el valor 18 \n",
    "# (otro número par) y construir 9 clases de amplitud 8, \n",
    "# para obtener el siguiente conjunto de clases\n",
    "clase_empleados= distribucion_frecuencia(\n",
    "    edad_empleados, \n",
    "    min=int(min(edad_empleados)-1),\n",
    "    max=int(max(edad_empleados)), \n",
    "    incr = int(math.ceil(amplitud_clase))\n",
    ")\n",
    "print(clase_empleados)\n",
    "serie_empleados = sum(map(lambda x: x[1], clase_empleados.items()))\n",
    "assert serie_empleados == len(empleados)\n",
    "\n",
    "tabla = pretty_table (clase_empleados, \"Edades (x)\", \"Frecuencia (f)\")\n",
    "print(tabla)\n"
   ]
  },
  {
   "cell_type": "markdown",
   "metadata": {},
   "source": [
    "*Ejemplo 2.3*"
   ]
  },
  {
   "cell_type": "markdown",
   "metadata": {},
   "source": [
    "Se examinaron 50 cajas de focos, cada una de las cuales contiene\n",
    "100 piezas. En la tabla 2.7 se muestra el número de focos defectuosos encontrados en cada una de las 50 cajas."
   ]
  },
  {
   "cell_type": "code",
   "execution_count": 45,
   "metadata": {},
   "outputs": [],
   "source": [
    "focos_defectuosos = [0 , 2 , 1 , 0 , 3 , 0 , 2 , 0 , 0 , 1 , 4 , 2 , 5 , 1 , 0 , 1 , 1 , 0 , 0 , 0 , 1 , 0 , 1 , 1 , 0 , 0 , 0 , 2 , 0 , 1 , 2 , 1 , 0 , 0 , 1 , 1 , 0 , 0 , 0 , 1 , 1 , 0 , 1 , 2 , 3 , 0 , 1 , 0 , 1 , 1]"
   ]
  },
  {
   "cell_type": "code",
   "execution_count": 50,
   "metadata": {},
   "outputs": [
    {
     "name": "stdout",
     "output_type": "stream",
     "text": [
      "[0, 0, 0, 0, 0, 0, 0, 0, 0, 0, 0, 0, 0, 0, 0, 0, 0, 0, 0, 0, 0, 0, 1, 1, 1, 1, 1, 1, 1, 1, 1, 1, 1, 1, 1, 1, 1, 1, 1, 1, 2, 2, 2, 2, 2, 2, 3, 3, 4, 5]\n",
      "+---------------------------+----------------+\n",
      "| No. focos defectuosos (x) | Frecuencia (f) |\n",
      "+---------------------------+----------------+\n",
      "|             0             |       22       |\n",
      "|             1             |       18       |\n",
      "|             2             |       6        |\n",
      "|             3             |       2        |\n",
      "|             4             |       1        |\n",
      "|             5             |       1        |\n",
      "+---------------------------+----------------+\n"
     ]
    }
   ],
   "source": [
    "fd_ordenados = sorted(focos_defectuosos)\n",
    "print(fd_ordenados)\n",
    "frecuencia_fd = defaultdict(int)\n",
    "for focos in fd_ordenados:\n",
    "    frecuencia_fd[focos] += 1\n",
    "\n",
    "assert sum(frecuencia_fd.values()) == len(focos_defectuosos)\n",
    "\n",
    "#serie de datos con frecuencia f\n",
    "tabla = pretty_table (frecuencia_fd, \"No. focos defectuosos (x)\", \"Frecuencia (f)\")\n",
    "print(tabla)"
   ]
  },
  {
   "cell_type": "markdown",
   "metadata": {},
   "source": [
    " se aprecia que esta forma de presentación\n",
    "de datos es más compacta, al mismo tiempo que permite detectar cuál es el valor que más se repite (22 de las cajas no contienen ningún foco defectuoso). \n",
    "\n",
    "Al mismo tiempo se observa que no es\n",
    "necesario compactar aún más estos datos de focos defectuosos,\n",
    "por lo que no se construye una tabla de clases y frecuencias"
   ]
  }
 ],
 "metadata": {
  "kernelspec": {
   "display_name": "base",
   "language": "python",
   "name": "python3"
  },
  "language_info": {
   "codemirror_mode": {
    "name": "ipython",
    "version": 3
   },
   "file_extension": ".py",
   "mimetype": "text/x-python",
   "name": "python",
   "nbconvert_exporter": "python",
   "pygments_lexer": "ipython3",
   "version": "3.12.7"
  }
 },
 "nbformat": 4,
 "nbformat_minor": 2
}
